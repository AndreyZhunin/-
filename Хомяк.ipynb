{
 "cells": [
  {
   "cell_type": "code",
   "execution_count": 26,
   "metadata": {},
   "outputs": [
    {
     "name": "stdout",
     "output_type": "stream",
     "text": [
      "[0, 0]\n",
      "[0, 1]\n",
      "[0, 2]\n",
      "[0, 2]\n",
      "Хомячку больно, справа стена\n",
      "[0, 2]\n",
      "Хомячку больно, справа стена\n",
      "[0, 2]\n",
      "[1, 2]\n",
      "[2, 2]\n",
      "[2, 3]\n",
      "[2, 4]\n",
      "[2, 5]\n",
      "[2, 5]\n",
      "[3, 5]\n",
      "[3, 6]\n",
      "[3, 7]\n",
      "[3, 7]\n",
      "[4, 7]\n",
      "[5, 7]\n",
      "[6, 7]\n",
      "[6, 8]\n",
      "[6, 8]\n",
      "[7, 8]\n",
      "[8, 8]\n",
      "[8, 9]\n",
      "[8, 10]\n",
      "[8, 11]\n",
      "[8, 11]\n",
      "[9, 11]\n",
      "[9, 12]\n",
      "[9, 13]\n",
      "[9, 14]\n",
      "[9, 14]\n",
      "[10, 14]\n",
      "[10, 15]\n",
      "[10, 16]\n",
      "[11, 16]\n",
      "[11, 17]\n",
      "[11, 18]\n",
      "[11, 19]\n",
      "[11, 19]\n",
      "[12, 19]\n",
      "[13, 19]\n",
      "Поздравляем, вы добрались до финиша и съели все печеньки!\n"
     ]
    }
   ],
   "source": [
    "hamster_coordinates = [0, 0]\n",
    "total = 0\n",
    "while True:\n",
    "    cookie = False\n",
    "    wall_right = False\n",
    "    print(hamster_coordinates)\n",
    "    if hamster_coordinates == [0, 2] or hamster_coordinates == [1, 2] or hamster_coordinates == [2, 5] or hamster_coordinates == [3, 7] or hamster_coordinates == [4, \n",
    "    7] or hamster_coordinates == [5, 7] or hamster_coordinates == [6, 8] or hamster_coordinates == [7, 8] or hamster_coordinates == [8, 11] or hamster_coordinates == [9, \n",
    "    14] or hamster_coordinates == [10, 16] or hamster_coordinates == [11, 19] or hamster_coordinates == [12, 19]:\n",
    "        wall_right = True\n",
    "    if hamster_coordinates == [0, 2] or hamster_coordinates == [2, 5] or hamster_coordinates == [3, 7] or hamster_coordinates == [6, 8] or hamster_coordinates == [8, \n",
    "    11] or hamster_coordinates == [9, 14] or hamster_coordinates == [11, 19]:\n",
    "        cookie = True\n",
    "    if hamster_coordinates == [13, 19] and total == 7:\n",
    "        print(\"Поздравляем, вы добрались до финиша и съели все печеньки!\")\n",
    "        break\n",
    "    if hamster_coordinates == [13, 19] and total < 7:\n",
    "        print(\"Вы добрались до финиша, но, к сожалению, съели не все печеньки\")\n",
    "        break\n",
    "    step = input(\"вверх, вниз, влево, вправо, кушать\")\n",
    "    if step == \"вверх\":\n",
    "        hamster_coordinates = [hamster_coordinates[0] + 1] + [hamster_coordinates[1]]\n",
    "    elif step == \"вниз\":\n",
    "        hamster_coordinates = [hamster_coordinates[0] - 1] + [hamster_coordinates[1]]\n",
    "    elif step == \"влево\":\n",
    "        hamster_coordinates = [hamster_coordinates[0]] + [hamster_coordinates[1] - 1]\n",
    "    elif step == \"вправо\":\n",
    "        if wall_right == True:\n",
    "            print(\"Хомячку больно, справа стена\")\n",
    "            continue\n",
    "        hamster_coordinates = [hamster_coordinates[0]] + [hamster_coordinates[1] + 1]\n",
    "    elif step == \"кушать\":\n",
    "        if cookie == True:\n",
    "            total += 1"
   ]
  }
 ],
 "metadata": {
  "kernelspec": {
   "display_name": "base",
   "language": "python",
   "name": "python3"
  },
  "language_info": {
   "codemirror_mode": {
    "name": "ipython",
    "version": 3
   },
   "file_extension": ".py",
   "mimetype": "text/x-python",
   "name": "python",
   "nbconvert_exporter": "python",
   "pygments_lexer": "ipython3",
   "version": "3.9.13"
  },
  "orig_nbformat": 4,
  "vscode": {
   "interpreter": {
    "hash": "aebece6d7f36dcb76e18e35eeeb6df0aa2f45c16f627740c4ceed71503e897ac"
   }
  }
 },
 "nbformat": 4,
 "nbformat_minor": 2
}
